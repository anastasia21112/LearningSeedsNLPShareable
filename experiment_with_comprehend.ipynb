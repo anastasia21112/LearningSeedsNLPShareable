{
  "cells": [
    {
      "cell_type": "code",
      "execution_count": null,
      "id": "9ace31a7-af53-4102-ad08-46913681e855",
      "metadata": {
        "tags": [],
        "id": "9ace31a7-af53-4102-ad08-46913681e855"
      },
      "outputs": [],
      "source": [
        "import pandas as pd\n",
        "from collections import OrderedDict\n",
        "import requests"
      ]
    },
    {
      "cell_type": "code",
      "execution_count": null,
      "id": "de7d1cba-e5bb-480a-ba06-46d4f0c20c6f",
      "metadata": {
        "tags": [],
        "id": "de7d1cba-e5bb-480a-ba06-46d4f0c20c6f"
      },
      "outputs": [],
      "source": [
        "import boto3\n",
        "comprehend = boto3.client('comprehend', region_name='us-east-1')"
      ]
    },
    {
      "cell_type": "code",
      "execution_count": null,
      "id": "2781f863-d795-479a-ad44-02e7c2ce325c",
      "metadata": {
        "tags": [],
        "id": "2781f863-d795-479a-ad44-02e7c2ce325c"
      },
      "outputs": [],
      "source": [
        "df = pd.read_excel('Copy of SFPCC Anecdotes and Recordings for Anastasia.xlsx')\n",
        "df"
      ]
    },
    {
      "cell_type": "code",
      "execution_count": null,
      "id": "93679256-1d06-47d2-8e32-4bbfeaa287af",
      "metadata": {
        "tags": [],
        "id": "93679256-1d06-47d2-8e32-4bbfeaa287af"
      },
      "outputs": [],
      "source": [
        "all_transcripts = list(df['Transcript'])\n",
        "#all_transcripts"
      ]
    },
    {
      "cell_type": "code",
      "execution_count": null,
      "id": "999c6c3d-3e42-48b0-8f19-6ea9ba2c1b06",
      "metadata": {
        "tags": [],
        "id": "999c6c3d-3e42-48b0-8f19-6ea9ba2c1b06"
      },
      "outputs": [],
      "source": [
        "f = open(\"comprehend_experiment.txt\", \"a\")\n",
        "\n",
        "for transcript in all_transcripts:\n",
        "    f.write('---------------------TRANSCRIPT------------------\\n')\n",
        "    f.write(transcript)\n",
        "    # Key phrases\n",
        "    phrases = comprehend.detect_key_phrases(Text=transcript, LanguageCode='en')\n",
        "\n",
        "    # Entities\n",
        "    entities = comprehend.detect_entities(Text=transcript, LanguageCode='en')\n",
        "\n",
        "    #Sentiments\n",
        "    sentiments = comprehend.detect_sentiment(Text=transcript, LanguageCode='en')\n",
        "\n",
        "\n",
        "    # Write the phrases:\n",
        "    f.write('--------------------- PHRASES ----------------------\\n')\n",
        "    for i in range(0, len(phrases['KeyPhrases'])):\n",
        "        f.write((phrases['KeyPhrases'][i]['Text']) + \"\\n\")\n",
        "\n",
        "\n",
        "    # Write the entities with entitity type:\n",
        "    f.write('------------ ENTITY : ENTITY TYPE -------------\\n')\n",
        "    for i in range(0, len(entities['Entities'])):\n",
        "        f.write(entities['Entities'][i]['Text'] + ' : ' + entities['Entities'][i]['Type'] + '\\n')\n",
        "\n",
        "    # Write the sentiment:\n",
        "    f.write('------------------ SENTIMENT -------------------\\n')\n",
        "    f.write(sentiments['Sentiment'] + '\\n')\n",
        "    f.write('------------------------------------------------\\n\\n\\n\\n\\n')\n",
        "\n",
        "f.close()"
      ]
    },
    {
      "cell_type": "code",
      "execution_count": null,
      "id": "879e5dc6-a4f4-4955-804c-8f81acbacbc5",
      "metadata": {
        "tags": [],
        "id": "879e5dc6-a4f4-4955-804c-8f81acbacbc5"
      },
      "outputs": [],
      "source": [
        "# natural language processing: n-gram ranking\n",
        "import re\n",
        "import unicodedata\n",
        "import nltk\n",
        "nltk.download('stopwords')\n",
        "from nltk.corpus import stopwords\n",
        "nltk.download('wordnet')\n",
        "import matplotlib.pyplot as plt"
      ]
    },
    {
      "cell_type": "code",
      "execution_count": null,
      "id": "0bbe822a-9266-4b9a-9c0b-1eb9086cf203",
      "metadata": {
        "tags": [],
        "id": "0bbe822a-9266-4b9a-9c0b-1eb9086cf203"
      },
      "outputs": [],
      "source": [
        "ADDITIONAL_STOPWORDS = ['like', 'oh']\n",
        "def basic_clean(text):\n",
        "    \"\"\"\n",
        "    A simple function to clean up the data. All the words that\n",
        "    are not designated as a stop word is then lemmatized after\n",
        "    encoding and basic regex parsing are performed.\n",
        "    \"\"\"\n",
        "    wnl = nltk.stem.WordNetLemmatizer()\n",
        "    stopwords = nltk.corpus.stopwords.words('english') + ADDITIONAL_STOPWORDS\n",
        "    text = (unicodedata.normalize('NFKD', text)\n",
        "    .encode('ascii', 'ignore')\n",
        "    .decode('utf-8', 'ignore')\n",
        "    .lower())\n",
        "    words = re.sub(r'[^\\w\\s]', '', text).split()\n",
        "    return [wnl.lemmatize(word) for word in words if word not in stopwords]"
      ]
    },
    {
      "cell_type": "code",
      "execution_count": null,
      "id": "d6cdb6c6-513e-47b4-8535-c1180e509449",
      "metadata": {
        "tags": [],
        "id": "d6cdb6c6-513e-47b4-8535-c1180e509449"
      },
      "outputs": [],
      "source": [
        "words = basic_clean(''.join(str(df['Transcript'].tolist())))"
      ]
    },
    {
      "cell_type": "code",
      "execution_count": null,
      "id": "6958d20d-f90f-4b28-a5b9-9071dc175697",
      "metadata": {
        "tags": [],
        "id": "6958d20d-f90f-4b28-a5b9-9071dc175697"
      },
      "outputs": [],
      "source": [
        "(pd.Series(nltk.ngrams(words, 2)).value_counts())[:10]"
      ]
    },
    {
      "cell_type": "code",
      "execution_count": null,
      "id": "e0ae7f73-2e88-41c3-b993-5bb0fe47b683",
      "metadata": {
        "tags": [],
        "id": "e0ae7f73-2e88-41c3-b993-5bb0fe47b683"
      },
      "outputs": [],
      "source": [
        "bigrams_series = (pd.Series(nltk.ngrams(words, 2)).value_counts())[:50]\n",
        "trigrams_series = (pd.Series(nltk.ngrams(words, 3)).value_counts())[:50]"
      ]
    },
    {
      "cell_type": "code",
      "execution_count": null,
      "id": "a76d07f4-7c0f-471e-b4de-f1e1e4bc055a",
      "metadata": {
        "tags": [],
        "id": "a76d07f4-7c0f-471e-b4de-f1e1e4bc055a"
      },
      "outputs": [],
      "source": [
        "bigrams_series.sort_values().plot.barh(color='blue', width=.9, figsize=(12, 8))\n",
        "#plt.show()\n",
        "plt.savefig('bigrams.png')"
      ]
    },
    {
      "cell_type": "code",
      "execution_count": null,
      "id": "754260a9-e632-43ad-81d4-9a0277bdb2e2",
      "metadata": {
        "tags": [],
        "id": "754260a9-e632-43ad-81d4-9a0277bdb2e2"
      },
      "outputs": [],
      "source": [
        "trigrams_series.sort_values().plot.barh(color='blue', width=.9, figsize=(12, 8))\n",
        "#plt.show()\n",
        "plt.savefig('trigrams.png')"
      ]
    },
    {
      "cell_type": "code",
      "execution_count": null,
      "id": "87085928-82b4-4c7f-840d-c59d74326ac5",
      "metadata": {
        "tags": [],
        "id": "87085928-82b4-4c7f-840d-c59d74326ac5"
      },
      "outputs": [],
      "source": [
        "quadgrams_series = (pd.Series(nltk.ngrams(words, 4)).value_counts())[:50]\n",
        "quadgrams_series.sort_values().plot.barh(color='blue', width=.9, figsize=(12, 8))\n",
        "#plt.show()\n",
        "plt.savefig('quadgrams.png')"
      ]
    },
    {
      "cell_type": "code",
      "execution_count": null,
      "id": "d7d132c7-d7d0-47f3-88c0-f9e690d6599e",
      "metadata": {
        "tags": [],
        "id": "d7d132c7-d7d0-47f3-88c0-f9e690d6599e"
      },
      "outputs": [],
      "source": [
        "!pip install wordcloud\n",
        "from wordcloud import WordCloud\n",
        "words_list = ' '.join(words)\n",
        "wordcloud = WordCloud(width = 800, height = 800,\n",
        "                background_color ='white',\n",
        "                #stopwords = stopwords,\n",
        "                min_font_size = 10).generate(words_list)\n",
        "\n",
        "# plot the WordCloud image\n",
        "plt.figure(figsize = (8, 8), facecolor = None)\n",
        "plt.imshow(wordcloud)\n",
        "plt.axis(\"off\")\n",
        "plt.tight_layout(pad = 0)\n",
        "\n",
        "plt.savefig('wordcloud.png')"
      ]
    },
    {
      "cell_type": "code",
      "execution_count": null,
      "id": "b7299d6d-909f-4f41-a570-b2027cf9b9e2",
      "metadata": {
        "tags": [],
        "id": "b7299d6d-909f-4f41-a570-b2027cf9b9e2"
      },
      "outputs": [],
      "source": [
        "examples_df = pd.read_excel('Copy of Breakdown Spreadsheet for Anastasia.xlsx')\n",
        "examples_df = examples_df.iloc[:34]\n",
        "examples_df.columns = examples_df.iloc[0]\n",
        "examples_df"
      ]
    },
    {
      "cell_type": "code",
      "execution_count": null,
      "id": "91e1e96d-42ea-4cd5-8fb5-a06d572c14d4",
      "metadata": {
        "tags": [],
        "id": "91e1e96d-42ea-4cd5-8fb5-a06d572c14d4"
      },
      "outputs": [],
      "source": [
        "example_words = basic_clean(''.join(str(examples_df['Vignette'].tolist())))"
      ]
    },
    {
      "cell_type": "code",
      "execution_count": null,
      "id": "27b9c2fe-a7ee-48bd-a9db-8e4efe0a3211",
      "metadata": {
        "tags": [],
        "id": "27b9c2fe-a7ee-48bd-a9db-8e4efe0a3211"
      },
      "outputs": [],
      "source": [
        "(pd.Series(nltk.ngrams(example_words, 2)).value_counts())[:10]\n",
        "bigrams_series = (pd.Series(nltk.ngrams(example_words, 2)).value_counts())[:50]\n",
        "trigrams_series = (pd.Series(nltk.ngrams(example_words, 3)).value_counts())[:50]"
      ]
    },
    {
      "cell_type": "code",
      "execution_count": null,
      "id": "1dc125e1-572a-4fca-ab44-2d51c92d09a0",
      "metadata": {
        "tags": [],
        "id": "1dc125e1-572a-4fca-ab44-2d51c92d09a0"
      },
      "outputs": [],
      "source": [
        "bigrams_series.sort_values().plot.barh(color='blue', width=.9, figsize=(12, 8))\n",
        "plt.show()"
      ]
    },
    {
      "cell_type": "code",
      "execution_count": null,
      "id": "07cbd4a3-843d-4db2-86b2-466401a677ed",
      "metadata": {
        "tags": [],
        "id": "07cbd4a3-843d-4db2-86b2-466401a677ed"
      },
      "outputs": [],
      "source": [
        "trigrams_series.sort_values().plot.barh(color='blue', width=.9, figsize=(12, 8))\n",
        "plt.show()"
      ]
    },
    {
      "cell_type": "code",
      "execution_count": null,
      "id": "79328def-5190-4cdd-8601-9d2e03fb1c7c",
      "metadata": {
        "tags": [],
        "id": "79328def-5190-4cdd-8601-9d2e03fb1c7c"
      },
      "outputs": [],
      "source": [
        "from wordcloud import WordCloud\n",
        "example_words_list = ' '.join(example_words)\n",
        "wordcloud = WordCloud(width = 800, height = 800,\n",
        "                background_color ='white',\n",
        "                #stopwords = stopwords,\n",
        "                min_font_size = 10).generate(example_words_list)\n",
        "\n",
        "# plot the WordCloud image\n",
        "plt.figure(figsize = (8, 8), facecolor = None)\n",
        "plt.imshow(wordcloud)\n",
        "plt.axis(\"off\")\n",
        "plt.tight_layout(pad = 0)\n",
        "plt.savefig(\"examples wordcloud.png\")"
      ]
    }
  ],
  "metadata": {
    "availableInstances": [
      {
        "_defaultOrder": 0,
        "_isFastLaunch": true,
        "category": "General purpose",
        "gpuNum": 0,
        "hideHardwareSpecs": false,
        "memoryGiB": 4,
        "name": "ml.t3.medium",
        "vcpuNum": 2
      },
      {
        "_defaultOrder": 1,
        "_isFastLaunch": false,
        "category": "General purpose",
        "gpuNum": 0,
        "hideHardwareSpecs": false,
        "memoryGiB": 8,
        "name": "ml.t3.large",
        "vcpuNum": 2
      },
      {
        "_defaultOrder": 2,
        "_isFastLaunch": false,
        "category": "General purpose",
        "gpuNum": 0,
        "hideHardwareSpecs": false,
        "memoryGiB": 16,
        "name": "ml.t3.xlarge",
        "vcpuNum": 4
      },
      {
        "_defaultOrder": 3,
        "_isFastLaunch": false,
        "category": "General purpose",
        "gpuNum": 0,
        "hideHardwareSpecs": false,
        "memoryGiB": 32,
        "name": "ml.t3.2xlarge",
        "vcpuNum": 8
      },
      {
        "_defaultOrder": 4,
        "_isFastLaunch": true,
        "category": "General purpose",
        "gpuNum": 0,
        "hideHardwareSpecs": false,
        "memoryGiB": 8,
        "name": "ml.m5.large",
        "vcpuNum": 2
      },
      {
        "_defaultOrder": 5,
        "_isFastLaunch": false,
        "category": "General purpose",
        "gpuNum": 0,
        "hideHardwareSpecs": false,
        "memoryGiB": 16,
        "name": "ml.m5.xlarge",
        "vcpuNum": 4
      },
      {
        "_defaultOrder": 6,
        "_isFastLaunch": false,
        "category": "General purpose",
        "gpuNum": 0,
        "hideHardwareSpecs": false,
        "memoryGiB": 32,
        "name": "ml.m5.2xlarge",
        "vcpuNum": 8
      },
      {
        "_defaultOrder": 7,
        "_isFastLaunch": false,
        "category": "General purpose",
        "gpuNum": 0,
        "hideHardwareSpecs": false,
        "memoryGiB": 64,
        "name": "ml.m5.4xlarge",
        "vcpuNum": 16
      },
      {
        "_defaultOrder": 8,
        "_isFastLaunch": false,
        "category": "General purpose",
        "gpuNum": 0,
        "hideHardwareSpecs": false,
        "memoryGiB": 128,
        "name": "ml.m5.8xlarge",
        "vcpuNum": 32
      },
      {
        "_defaultOrder": 9,
        "_isFastLaunch": false,
        "category": "General purpose",
        "gpuNum": 0,
        "hideHardwareSpecs": false,
        "memoryGiB": 192,
        "name": "ml.m5.12xlarge",
        "vcpuNum": 48
      },
      {
        "_defaultOrder": 10,
        "_isFastLaunch": false,
        "category": "General purpose",
        "gpuNum": 0,
        "hideHardwareSpecs": false,
        "memoryGiB": 256,
        "name": "ml.m5.16xlarge",
        "vcpuNum": 64
      },
      {
        "_defaultOrder": 11,
        "_isFastLaunch": false,
        "category": "General purpose",
        "gpuNum": 0,
        "hideHardwareSpecs": false,
        "memoryGiB": 384,
        "name": "ml.m5.24xlarge",
        "vcpuNum": 96
      },
      {
        "_defaultOrder": 12,
        "_isFastLaunch": false,
        "category": "General purpose",
        "gpuNum": 0,
        "hideHardwareSpecs": false,
        "memoryGiB": 8,
        "name": "ml.m5d.large",
        "vcpuNum": 2
      },
      {
        "_defaultOrder": 13,
        "_isFastLaunch": false,
        "category": "General purpose",
        "gpuNum": 0,
        "hideHardwareSpecs": false,
        "memoryGiB": 16,
        "name": "ml.m5d.xlarge",
        "vcpuNum": 4
      },
      {
        "_defaultOrder": 14,
        "_isFastLaunch": false,
        "category": "General purpose",
        "gpuNum": 0,
        "hideHardwareSpecs": false,
        "memoryGiB": 32,
        "name": "ml.m5d.2xlarge",
        "vcpuNum": 8
      },
      {
        "_defaultOrder": 15,
        "_isFastLaunch": false,
        "category": "General purpose",
        "gpuNum": 0,
        "hideHardwareSpecs": false,
        "memoryGiB": 64,
        "name": "ml.m5d.4xlarge",
        "vcpuNum": 16
      },
      {
        "_defaultOrder": 16,
        "_isFastLaunch": false,
        "category": "General purpose",
        "gpuNum": 0,
        "hideHardwareSpecs": false,
        "memoryGiB": 128,
        "name": "ml.m5d.8xlarge",
        "vcpuNum": 32
      },
      {
        "_defaultOrder": 17,
        "_isFastLaunch": false,
        "category": "General purpose",
        "gpuNum": 0,
        "hideHardwareSpecs": false,
        "memoryGiB": 192,
        "name": "ml.m5d.12xlarge",
        "vcpuNum": 48
      },
      {
        "_defaultOrder": 18,
        "_isFastLaunch": false,
        "category": "General purpose",
        "gpuNum": 0,
        "hideHardwareSpecs": false,
        "memoryGiB": 256,
        "name": "ml.m5d.16xlarge",
        "vcpuNum": 64
      },
      {
        "_defaultOrder": 19,
        "_isFastLaunch": false,
        "category": "General purpose",
        "gpuNum": 0,
        "hideHardwareSpecs": false,
        "memoryGiB": 384,
        "name": "ml.m5d.24xlarge",
        "vcpuNum": 96
      },
      {
        "_defaultOrder": 20,
        "_isFastLaunch": false,
        "category": "General purpose",
        "gpuNum": 0,
        "hideHardwareSpecs": true,
        "memoryGiB": 0,
        "name": "ml.geospatial.interactive",
        "supportedImageNames": [
          "sagemaker-geospatial-v1-0"
        ],
        "vcpuNum": 0
      },
      {
        "_defaultOrder": 21,
        "_isFastLaunch": true,
        "category": "Compute optimized",
        "gpuNum": 0,
        "hideHardwareSpecs": false,
        "memoryGiB": 4,
        "name": "ml.c5.large",
        "vcpuNum": 2
      },
      {
        "_defaultOrder": 22,
        "_isFastLaunch": false,
        "category": "Compute optimized",
        "gpuNum": 0,
        "hideHardwareSpecs": false,
        "memoryGiB": 8,
        "name": "ml.c5.xlarge",
        "vcpuNum": 4
      },
      {
        "_defaultOrder": 23,
        "_isFastLaunch": false,
        "category": "Compute optimized",
        "gpuNum": 0,
        "hideHardwareSpecs": false,
        "memoryGiB": 16,
        "name": "ml.c5.2xlarge",
        "vcpuNum": 8
      },
      {
        "_defaultOrder": 24,
        "_isFastLaunch": false,
        "category": "Compute optimized",
        "gpuNum": 0,
        "hideHardwareSpecs": false,
        "memoryGiB": 32,
        "name": "ml.c5.4xlarge",
        "vcpuNum": 16
      },
      {
        "_defaultOrder": 25,
        "_isFastLaunch": false,
        "category": "Compute optimized",
        "gpuNum": 0,
        "hideHardwareSpecs": false,
        "memoryGiB": 72,
        "name": "ml.c5.9xlarge",
        "vcpuNum": 36
      },
      {
        "_defaultOrder": 26,
        "_isFastLaunch": false,
        "category": "Compute optimized",
        "gpuNum": 0,
        "hideHardwareSpecs": false,
        "memoryGiB": 96,
        "name": "ml.c5.12xlarge",
        "vcpuNum": 48
      },
      {
        "_defaultOrder": 27,
        "_isFastLaunch": false,
        "category": "Compute optimized",
        "gpuNum": 0,
        "hideHardwareSpecs": false,
        "memoryGiB": 144,
        "name": "ml.c5.18xlarge",
        "vcpuNum": 72
      },
      {
        "_defaultOrder": 28,
        "_isFastLaunch": false,
        "category": "Compute optimized",
        "gpuNum": 0,
        "hideHardwareSpecs": false,
        "memoryGiB": 192,
        "name": "ml.c5.24xlarge",
        "vcpuNum": 96
      },
      {
        "_defaultOrder": 29,
        "_isFastLaunch": true,
        "category": "Accelerated computing",
        "gpuNum": 1,
        "hideHardwareSpecs": false,
        "memoryGiB": 16,
        "name": "ml.g4dn.xlarge",
        "vcpuNum": 4
      },
      {
        "_defaultOrder": 30,
        "_isFastLaunch": false,
        "category": "Accelerated computing",
        "gpuNum": 1,
        "hideHardwareSpecs": false,
        "memoryGiB": 32,
        "name": "ml.g4dn.2xlarge",
        "vcpuNum": 8
      },
      {
        "_defaultOrder": 31,
        "_isFastLaunch": false,
        "category": "Accelerated computing",
        "gpuNum": 1,
        "hideHardwareSpecs": false,
        "memoryGiB": 64,
        "name": "ml.g4dn.4xlarge",
        "vcpuNum": 16
      },
      {
        "_defaultOrder": 32,
        "_isFastLaunch": false,
        "category": "Accelerated computing",
        "gpuNum": 1,
        "hideHardwareSpecs": false,
        "memoryGiB": 128,
        "name": "ml.g4dn.8xlarge",
        "vcpuNum": 32
      },
      {
        "_defaultOrder": 33,
        "_isFastLaunch": false,
        "category": "Accelerated computing",
        "gpuNum": 4,
        "hideHardwareSpecs": false,
        "memoryGiB": 192,
        "name": "ml.g4dn.12xlarge",
        "vcpuNum": 48
      },
      {
        "_defaultOrder": 34,
        "_isFastLaunch": false,
        "category": "Accelerated computing",
        "gpuNum": 1,
        "hideHardwareSpecs": false,
        "memoryGiB": 256,
        "name": "ml.g4dn.16xlarge",
        "vcpuNum": 64
      },
      {
        "_defaultOrder": 35,
        "_isFastLaunch": false,
        "category": "Accelerated computing",
        "gpuNum": 1,
        "hideHardwareSpecs": false,
        "memoryGiB": 61,
        "name": "ml.p3.2xlarge",
        "vcpuNum": 8
      },
      {
        "_defaultOrder": 36,
        "_isFastLaunch": false,
        "category": "Accelerated computing",
        "gpuNum": 4,
        "hideHardwareSpecs": false,
        "memoryGiB": 244,
        "name": "ml.p3.8xlarge",
        "vcpuNum": 32
      },
      {
        "_defaultOrder": 37,
        "_isFastLaunch": false,
        "category": "Accelerated computing",
        "gpuNum": 8,
        "hideHardwareSpecs": false,
        "memoryGiB": 488,
        "name": "ml.p3.16xlarge",
        "vcpuNum": 64
      },
      {
        "_defaultOrder": 38,
        "_isFastLaunch": false,
        "category": "Accelerated computing",
        "gpuNum": 8,
        "hideHardwareSpecs": false,
        "memoryGiB": 768,
        "name": "ml.p3dn.24xlarge",
        "vcpuNum": 96
      },
      {
        "_defaultOrder": 39,
        "_isFastLaunch": false,
        "category": "Memory Optimized",
        "gpuNum": 0,
        "hideHardwareSpecs": false,
        "memoryGiB": 16,
        "name": "ml.r5.large",
        "vcpuNum": 2
      },
      {
        "_defaultOrder": 40,
        "_isFastLaunch": false,
        "category": "Memory Optimized",
        "gpuNum": 0,
        "hideHardwareSpecs": false,
        "memoryGiB": 32,
        "name": "ml.r5.xlarge",
        "vcpuNum": 4
      },
      {
        "_defaultOrder": 41,
        "_isFastLaunch": false,
        "category": "Memory Optimized",
        "gpuNum": 0,
        "hideHardwareSpecs": false,
        "memoryGiB": 64,
        "name": "ml.r5.2xlarge",
        "vcpuNum": 8
      },
      {
        "_defaultOrder": 42,
        "_isFastLaunch": false,
        "category": "Memory Optimized",
        "gpuNum": 0,
        "hideHardwareSpecs": false,
        "memoryGiB": 128,
        "name": "ml.r5.4xlarge",
        "vcpuNum": 16
      },
      {
        "_defaultOrder": 43,
        "_isFastLaunch": false,
        "category": "Memory Optimized",
        "gpuNum": 0,
        "hideHardwareSpecs": false,
        "memoryGiB": 256,
        "name": "ml.r5.8xlarge",
        "vcpuNum": 32
      },
      {
        "_defaultOrder": 44,
        "_isFastLaunch": false,
        "category": "Memory Optimized",
        "gpuNum": 0,
        "hideHardwareSpecs": false,
        "memoryGiB": 384,
        "name": "ml.r5.12xlarge",
        "vcpuNum": 48
      },
      {
        "_defaultOrder": 45,
        "_isFastLaunch": false,
        "category": "Memory Optimized",
        "gpuNum": 0,
        "hideHardwareSpecs": false,
        "memoryGiB": 512,
        "name": "ml.r5.16xlarge",
        "vcpuNum": 64
      },
      {
        "_defaultOrder": 46,
        "_isFastLaunch": false,
        "category": "Memory Optimized",
        "gpuNum": 0,
        "hideHardwareSpecs": false,
        "memoryGiB": 768,
        "name": "ml.r5.24xlarge",
        "vcpuNum": 96
      },
      {
        "_defaultOrder": 47,
        "_isFastLaunch": false,
        "category": "Accelerated computing",
        "gpuNum": 1,
        "hideHardwareSpecs": false,
        "memoryGiB": 16,
        "name": "ml.g5.xlarge",
        "vcpuNum": 4
      },
      {
        "_defaultOrder": 48,
        "_isFastLaunch": false,
        "category": "Accelerated computing",
        "gpuNum": 1,
        "hideHardwareSpecs": false,
        "memoryGiB": 32,
        "name": "ml.g5.2xlarge",
        "vcpuNum": 8
      },
      {
        "_defaultOrder": 49,
        "_isFastLaunch": false,
        "category": "Accelerated computing",
        "gpuNum": 1,
        "hideHardwareSpecs": false,
        "memoryGiB": 64,
        "name": "ml.g5.4xlarge",
        "vcpuNum": 16
      },
      {
        "_defaultOrder": 50,
        "_isFastLaunch": false,
        "category": "Accelerated computing",
        "gpuNum": 1,
        "hideHardwareSpecs": false,
        "memoryGiB": 128,
        "name": "ml.g5.8xlarge",
        "vcpuNum": 32
      },
      {
        "_defaultOrder": 51,
        "_isFastLaunch": false,
        "category": "Accelerated computing",
        "gpuNum": 1,
        "hideHardwareSpecs": false,
        "memoryGiB": 256,
        "name": "ml.g5.16xlarge",
        "vcpuNum": 64
      },
      {
        "_defaultOrder": 52,
        "_isFastLaunch": false,
        "category": "Accelerated computing",
        "gpuNum": 4,
        "hideHardwareSpecs": false,
        "memoryGiB": 192,
        "name": "ml.g5.12xlarge",
        "vcpuNum": 48
      },
      {
        "_defaultOrder": 53,
        "_isFastLaunch": false,
        "category": "Accelerated computing",
        "gpuNum": 4,
        "hideHardwareSpecs": false,
        "memoryGiB": 384,
        "name": "ml.g5.24xlarge",
        "vcpuNum": 96
      },
      {
        "_defaultOrder": 54,
        "_isFastLaunch": false,
        "category": "Accelerated computing",
        "gpuNum": 8,
        "hideHardwareSpecs": false,
        "memoryGiB": 768,
        "name": "ml.g5.48xlarge",
        "vcpuNum": 192
      },
      {
        "_defaultOrder": 55,
        "_isFastLaunch": false,
        "category": "Accelerated computing",
        "gpuNum": 8,
        "hideHardwareSpecs": false,
        "memoryGiB": 1152,
        "name": "ml.p4d.24xlarge",
        "vcpuNum": 96
      },
      {
        "_defaultOrder": 56,
        "_isFastLaunch": false,
        "category": "Accelerated computing",
        "gpuNum": 8,
        "hideHardwareSpecs": false,
        "memoryGiB": 1152,
        "name": "ml.p4de.24xlarge",
        "vcpuNum": 96
      }
    ],
    "instance_type": "ml.t3.medium",
    "kernelspec": {
      "display_name": "Python 3 (Data Science)",
      "language": "python",
      "name": "python3__SAGEMAKER_INTERNAL__arn:aws:sagemaker:us-east-1:081325390199:image/datascience-1.0"
    },
    "language_info": {
      "codemirror_mode": {
        "name": "ipython",
        "version": 3
      },
      "file_extension": ".py",
      "mimetype": "text/x-python",
      "name": "python",
      "nbconvert_exporter": "python",
      "pygments_lexer": "ipython3",
      "version": "3.7.10"
    },
    "colab": {
      "provenance": []
    }
  },
  "nbformat": 4,
  "nbformat_minor": 5
}