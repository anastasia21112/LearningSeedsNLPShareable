{
  "cells": [
    {
      "cell_type": "code",
      "execution_count": null,
      "id": "f74abc36-3f10-402e-8511-cfe587856208",
      "metadata": {
        "tags": [],
        "id": "f74abc36-3f10-402e-8511-cfe587856208"
      },
      "outputs": [],
      "source": [
        "import pandas as pd\n",
        "from collections import OrderedDict\n",
        "import requests\n",
        "import boto3"
      ]
    },
    {
      "cell_type": "code",
      "execution_count": null,
      "id": "e0f805e1-ed9e-4420-b4a1-1dc25f04c80b",
      "metadata": {
        "tags": [],
        "id": "e0f805e1-ed9e-4420-b4a1-1dc25f04c80b"
      },
      "outputs": [],
      "source": [
        "breakdown_df = pd.ExcelFile(\"Copy of Breakdown Spreadsheet for Anastasia.xlsx\")\n",
        "\n",
        "## AB dataset\n",
        "AB = pd.read_excel(breakdown_df, 'AB')\n",
        "AB.columns = AB.iloc[0]\n",
        "\n",
        "## CD dataset\n",
        "CD = pd.read_excel(breakdown_df, 'CD')\n",
        "CD.columns = CD.iloc[0]\n",
        "\n",
        "## EF dataset\n",
        "EF = pd.read_excel(breakdown_df, 'EF')\n",
        "EF.columns = EF.iloc[1]\n",
        "\n",
        "## GH dataset\n",
        "GH = pd.read_excel(breakdown_df, 'GH')\n",
        "GH.columns = GH.iloc[0]\n",
        "\n",
        "## IJ dataset\n",
        "IJ = pd.read_excel(breakdown_df, 'IJ')\n",
        "IJ.columns = IJ.iloc[0]\n",
        "\n",
        "## KL dataset\n",
        "KL = pd.read_excel(breakdown_df, 'KL')\n",
        "KL.columns = KL.iloc[0]"
      ]
    },
    {
      "cell_type": "code",
      "execution_count": null,
      "id": "6064765b-4ebf-4320-8d17-80a8f7b84dd2",
      "metadata": {
        "tags": [],
        "id": "6064765b-4ebf-4320-8d17-80a8f7b84dd2"
      },
      "outputs": [],
      "source": [
        "def basic_clean(text):\n",
        "    \"\"\"\n",
        "    A simple function to clean up the data. All the words that\n",
        "    are not designated as a stop word is then lemmatized after\n",
        "    encoding and basic regex parsing are performed.\n",
        "    \"\"\"\n",
        "    wnl = nltk.stem.WordNetLemmatizer()\n",
        "    stopwords = nltk.corpus.stopwords.words('english')\n",
        "    text = (unicodedata.normalize('NFKD', text)\n",
        "    .encode('ascii', 'ignore')\n",
        "    .decode('utf-8', 'ignore')\n",
        "    .lower())\n",
        "    words = re.sub(r'[^\\w\\s]', '', text).split()\n",
        "    return [wnl.lemmatize(word) for word in words if word not in stopwords]"
      ]
    },
    {
      "cell_type": "code",
      "execution_count": null,
      "id": "4b5e4394-6bf9-4c66-a49d-01be5b191f21",
      "metadata": {
        "tags": [],
        "id": "4b5e4394-6bf9-4c66-a49d-01be5b191f21"
      },
      "outputs": [],
      "source": [
        "def convert_to_dict(dataset):\n",
        "    cleaned_text = {}\n",
        "    # child_context = list(dataset['Example: Child Context'].dropna())\n",
        "    # print(len(child_context))\n",
        "    # print(enumerate(child_context))\n",
        "    # adult_response = list(replace(dataset['adult Response'], is.na(dataset['adult Response']), '')\n",
        "    subdata = pd.DataFrame().assign(ChildContext = dataset['Example: Child Context'], AdultResponse = dataset['Example: adult Response'])\n",
        "    subdata = subdata.dropna()\n",
        "    child_context = list(subdata['ChildContext'])\n",
        "    adult_response = list(subdata['AdultResponse'])\n",
        "    for num in enumerate(child_context):\n",
        "        cleaned_text.update({child_context[num[0]]:adult_response[num[0]]})\n",
        "    return cleaned_text\n",
        "\n",
        "datasets = [AB, CD, EF, GH, IJ, KL]\n",
        "reformatted_data = pd.DataFrame(columns = ['text'])"
      ]
    },
    {
      "cell_type": "code",
      "execution_count": null,
      "id": "8c6af826-fe34-40a5-b7c9-ddd9902f3b17",
      "metadata": {
        "tags": [],
        "id": "8c6af826-fe34-40a5-b7c9-ddd9902f3b17"
      },
      "outputs": [],
      "source": [
        "reformatted_data = {}\n",
        "new_dat = {}\n",
        "for dataset in datasets:\n",
        "    print(\"dataset: \", len(dataset))\n",
        "    new_dat = convert_to_dict(dataset)\n",
        "    print(\"new dat: \", len(new_dat))\n",
        "    reformatted_data.update(new_dat)\n",
        "print(len(reformatted_data))"
      ]
    },
    {
      "cell_type": "code",
      "execution_count": null,
      "id": "7b387289-e34a-4aba-a988-53817a969f9b",
      "metadata": {
        "tags": [],
        "id": "7b387289-e34a-4aba-a988-53817a969f9b"
      },
      "outputs": [],
      "source": [
        "formatted_data = pd.DataFrame(columns = ['text'])\n",
        "text_column = []\n",
        "for key in reformatted_data.keys():\n",
        "    text_str = \"<s>[INST] \" + key + \" [\\INST] \" + reformatted_data[key] + \" <\\s>\"\n",
        "    text_column.append(text_str)\n",
        "\n",
        "formatted_data['text'] = text_column\n",
        "print(formatted_data)\n",
        "\n",
        "# formatted_data.to_csv(\"formatted_data.csv\")\n"
      ]
    },
    {
      "cell_type": "code",
      "execution_count": null,
      "id": "eef50db9-b59f-4e2f-9a8c-5bba1fa9717b",
      "metadata": {
        "id": "eef50db9-b59f-4e2f-9a8c-5bba1fa9717b"
      },
      "outputs": [],
      "source": [
        "old_grid_df = pd.ExcelFile(\"Grid CSV Examples and Tips.xlsx\")\n",
        "og_data = pd.read_excel(old_grid_df, \"data-1608809159892\")\n",
        "og_data\n",
        "og_data = pd.DataFrame().assign(ChildContext = og_data['example_sitation'], AdultResponse = og_data['example_Shadow_response'])\n",
        "og_data = og_data.dropna()\n",
        "og_data = og_data.drop_duplicates(subset=['ChildContext', 'AdultResponse'], keep=\"first\")"
      ]
    },
    {
      "cell_type": "code",
      "execution_count": null,
      "id": "b3c1c846-c412-478e-b558-0e2cfb8796e0",
      "metadata": {
        "tags": [],
        "id": "b3c1c846-c412-478e-b558-0e2cfb8796e0"
      },
      "outputs": [],
      "source": [
        "formatted_data = pd.DataFrame(columns = ['text'])\n",
        "append_text = []\n",
        "for i in range(len(list(og_data['ChildContext']))):\n",
        "    text_str = \"<s>[INST] \" + list(og_data['ChildContext'])[i] + \" [\\INST] \" + list(og_data['AdultResponse'])[i] + \" <\\s>\"\n",
        "    append_text.append(text_str)\n",
        "text_column.extend(append_text)\n",
        "formatted_data['text'] = text_column"
      ]
    },
    {
      "cell_type": "code",
      "execution_count": null,
      "id": "7323921c-2657-44c8-9637-dabc13e923fc",
      "metadata": {
        "tags": [],
        "id": "7323921c-2657-44c8-9637-dabc13e923fc"
      },
      "outputs": [],
      "source": [
        "formatted_data['text']"
      ]
    },
    {
      "cell_type": "code",
      "execution_count": null,
      "id": "f68a124c-7b72-40ee-b3e2-4082e9d81b4c",
      "metadata": {
        "tags": [],
        "id": "f68a124c-7b72-40ee-b3e2-4082e9d81b4c"
      },
      "outputs": [],
      "source": [
        "formatted_data.to_csv(\"formatted_data.csv\")"
      ]
    }
  ],
  "metadata": {
    "availableInstances": [
      {
        "_defaultOrder": 0,
        "_isFastLaunch": true,
        "category": "General purpose",
        "gpuNum": 0,
        "hideHardwareSpecs": false,
        "memoryGiB": 4,
        "name": "ml.t3.medium",
        "vcpuNum": 2
      },
      {
        "_defaultOrder": 1,
        "_isFastLaunch": false,
        "category": "General purpose",
        "gpuNum": 0,
        "hideHardwareSpecs": false,
        "memoryGiB": 8,
        "name": "ml.t3.large",
        "vcpuNum": 2
      },
      {
        "_defaultOrder": 2,
        "_isFastLaunch": false,
        "category": "General purpose",
        "gpuNum": 0,
        "hideHardwareSpecs": false,
        "memoryGiB": 16,
        "name": "ml.t3.xlarge",
        "vcpuNum": 4
      },
      {
        "_defaultOrder": 3,
        "_isFastLaunch": false,
        "category": "General purpose",
        "gpuNum": 0,
        "hideHardwareSpecs": false,
        "memoryGiB": 32,
        "name": "ml.t3.2xlarge",
        "vcpuNum": 8
      },
      {
        "_defaultOrder": 4,
        "_isFastLaunch": true,
        "category": "General purpose",
        "gpuNum": 0,
        "hideHardwareSpecs": false,
        "memoryGiB": 8,
        "name": "ml.m5.large",
        "vcpuNum": 2
      },
      {
        "_defaultOrder": 5,
        "_isFastLaunch": false,
        "category": "General purpose",
        "gpuNum": 0,
        "hideHardwareSpecs": false,
        "memoryGiB": 16,
        "name": "ml.m5.xlarge",
        "vcpuNum": 4
      },
      {
        "_defaultOrder": 6,
        "_isFastLaunch": false,
        "category": "General purpose",
        "gpuNum": 0,
        "hideHardwareSpecs": false,
        "memoryGiB": 32,
        "name": "ml.m5.2xlarge",
        "vcpuNum": 8
      },
      {
        "_defaultOrder": 7,
        "_isFastLaunch": false,
        "category": "General purpose",
        "gpuNum": 0,
        "hideHardwareSpecs": false,
        "memoryGiB": 64,
        "name": "ml.m5.4xlarge",
        "vcpuNum": 16
      },
      {
        "_defaultOrder": 8,
        "_isFastLaunch": false,
        "category": "General purpose",
        "gpuNum": 0,
        "hideHardwareSpecs": false,
        "memoryGiB": 128,
        "name": "ml.m5.8xlarge",
        "vcpuNum": 32
      },
      {
        "_defaultOrder": 9,
        "_isFastLaunch": false,
        "category": "General purpose",
        "gpuNum": 0,
        "hideHardwareSpecs": false,
        "memoryGiB": 192,
        "name": "ml.m5.12xlarge",
        "vcpuNum": 48
      },
      {
        "_defaultOrder": 10,
        "_isFastLaunch": false,
        "category": "General purpose",
        "gpuNum": 0,
        "hideHardwareSpecs": false,
        "memoryGiB": 256,
        "name": "ml.m5.16xlarge",
        "vcpuNum": 64
      },
      {
        "_defaultOrder": 11,
        "_isFastLaunch": false,
        "category": "General purpose",
        "gpuNum": 0,
        "hideHardwareSpecs": false,
        "memoryGiB": 384,
        "name": "ml.m5.24xlarge",
        "vcpuNum": 96
      },
      {
        "_defaultOrder": 12,
        "_isFastLaunch": false,
        "category": "General purpose",
        "gpuNum": 0,
        "hideHardwareSpecs": false,
        "memoryGiB": 8,
        "name": "ml.m5d.large",
        "vcpuNum": 2
      },
      {
        "_defaultOrder": 13,
        "_isFastLaunch": false,
        "category": "General purpose",
        "gpuNum": 0,
        "hideHardwareSpecs": false,
        "memoryGiB": 16,
        "name": "ml.m5d.xlarge",
        "vcpuNum": 4
      },
      {
        "_defaultOrder": 14,
        "_isFastLaunch": false,
        "category": "General purpose",
        "gpuNum": 0,
        "hideHardwareSpecs": false,
        "memoryGiB": 32,
        "name": "ml.m5d.2xlarge",
        "vcpuNum": 8
      },
      {
        "_defaultOrder": 15,
        "_isFastLaunch": false,
        "category": "General purpose",
        "gpuNum": 0,
        "hideHardwareSpecs": false,
        "memoryGiB": 64,
        "name": "ml.m5d.4xlarge",
        "vcpuNum": 16
      },
      {
        "_defaultOrder": 16,
        "_isFastLaunch": false,
        "category": "General purpose",
        "gpuNum": 0,
        "hideHardwareSpecs": false,
        "memoryGiB": 128,
        "name": "ml.m5d.8xlarge",
        "vcpuNum": 32
      },
      {
        "_defaultOrder": 17,
        "_isFastLaunch": false,
        "category": "General purpose",
        "gpuNum": 0,
        "hideHardwareSpecs": false,
        "memoryGiB": 192,
        "name": "ml.m5d.12xlarge",
        "vcpuNum": 48
      },
      {
        "_defaultOrder": 18,
        "_isFastLaunch": false,
        "category": "General purpose",
        "gpuNum": 0,
        "hideHardwareSpecs": false,
        "memoryGiB": 256,
        "name": "ml.m5d.16xlarge",
        "vcpuNum": 64
      },
      {
        "_defaultOrder": 19,
        "_isFastLaunch": false,
        "category": "General purpose",
        "gpuNum": 0,
        "hideHardwareSpecs": false,
        "memoryGiB": 384,
        "name": "ml.m5d.24xlarge",
        "vcpuNum": 96
      },
      {
        "_defaultOrder": 20,
        "_isFastLaunch": false,
        "category": "General purpose",
        "gpuNum": 0,
        "hideHardwareSpecs": true,
        "memoryGiB": 0,
        "name": "ml.geospatial.interactive",
        "supportedImageNames": [
          "sagemaker-geospatial-v1-0"
        ],
        "vcpuNum": 0
      },
      {
        "_defaultOrder": 21,
        "_isFastLaunch": true,
        "category": "Compute optimized",
        "gpuNum": 0,
        "hideHardwareSpecs": false,
        "memoryGiB": 4,
        "name": "ml.c5.large",
        "vcpuNum": 2
      },
      {
        "_defaultOrder": 22,
        "_isFastLaunch": false,
        "category": "Compute optimized",
        "gpuNum": 0,
        "hideHardwareSpecs": false,
        "memoryGiB": 8,
        "name": "ml.c5.xlarge",
        "vcpuNum": 4
      },
      {
        "_defaultOrder": 23,
        "_isFastLaunch": false,
        "category": "Compute optimized",
        "gpuNum": 0,
        "hideHardwareSpecs": false,
        "memoryGiB": 16,
        "name": "ml.c5.2xlarge",
        "vcpuNum": 8
      },
      {
        "_defaultOrder": 24,
        "_isFastLaunch": false,
        "category": "Compute optimized",
        "gpuNum": 0,
        "hideHardwareSpecs": false,
        "memoryGiB": 32,
        "name": "ml.c5.4xlarge",
        "vcpuNum": 16
      },
      {
        "_defaultOrder": 25,
        "_isFastLaunch": false,
        "category": "Compute optimized",
        "gpuNum": 0,
        "hideHardwareSpecs": false,
        "memoryGiB": 72,
        "name": "ml.c5.9xlarge",
        "vcpuNum": 36
      },
      {
        "_defaultOrder": 26,
        "_isFastLaunch": false,
        "category": "Compute optimized",
        "gpuNum": 0,
        "hideHardwareSpecs": false,
        "memoryGiB": 96,
        "name": "ml.c5.12xlarge",
        "vcpuNum": 48
      },
      {
        "_defaultOrder": 27,
        "_isFastLaunch": false,
        "category": "Compute optimized",
        "gpuNum": 0,
        "hideHardwareSpecs": false,
        "memoryGiB": 144,
        "name": "ml.c5.18xlarge",
        "vcpuNum": 72
      },
      {
        "_defaultOrder": 28,
        "_isFastLaunch": false,
        "category": "Compute optimized",
        "gpuNum": 0,
        "hideHardwareSpecs": false,
        "memoryGiB": 192,
        "name": "ml.c5.24xlarge",
        "vcpuNum": 96
      },
      {
        "_defaultOrder": 29,
        "_isFastLaunch": true,
        "category": "Accelerated computing",
        "gpuNum": 1,
        "hideHardwareSpecs": false,
        "memoryGiB": 16,
        "name": "ml.g4dn.xlarge",
        "vcpuNum": 4
      },
      {
        "_defaultOrder": 30,
        "_isFastLaunch": false,
        "category": "Accelerated computing",
        "gpuNum": 1,
        "hideHardwareSpecs": false,
        "memoryGiB": 32,
        "name": "ml.g4dn.2xlarge",
        "vcpuNum": 8
      },
      {
        "_defaultOrder": 31,
        "_isFastLaunch": false,
        "category": "Accelerated computing",
        "gpuNum": 1,
        "hideHardwareSpecs": false,
        "memoryGiB": 64,
        "name": "ml.g4dn.4xlarge",
        "vcpuNum": 16
      },
      {
        "_defaultOrder": 32,
        "_isFastLaunch": false,
        "category": "Accelerated computing",
        "gpuNum": 1,
        "hideHardwareSpecs": false,
        "memoryGiB": 128,
        "name": "ml.g4dn.8xlarge",
        "vcpuNum": 32
      },
      {
        "_defaultOrder": 33,
        "_isFastLaunch": false,
        "category": "Accelerated computing",
        "gpuNum": 4,
        "hideHardwareSpecs": false,
        "memoryGiB": 192,
        "name": "ml.g4dn.12xlarge",
        "vcpuNum": 48
      },
      {
        "_defaultOrder": 34,
        "_isFastLaunch": false,
        "category": "Accelerated computing",
        "gpuNum": 1,
        "hideHardwareSpecs": false,
        "memoryGiB": 256,
        "name": "ml.g4dn.16xlarge",
        "vcpuNum": 64
      },
      {
        "_defaultOrder": 35,
        "_isFastLaunch": false,
        "category": "Accelerated computing",
        "gpuNum": 1,
        "hideHardwareSpecs": false,
        "memoryGiB": 61,
        "name": "ml.p3.2xlarge",
        "vcpuNum": 8
      },
      {
        "_defaultOrder": 36,
        "_isFastLaunch": false,
        "category": "Accelerated computing",
        "gpuNum": 4,
        "hideHardwareSpecs": false,
        "memoryGiB": 244,
        "name": "ml.p3.8xlarge",
        "vcpuNum": 32
      },
      {
        "_defaultOrder": 37,
        "_isFastLaunch": false,
        "category": "Accelerated computing",
        "gpuNum": 8,
        "hideHardwareSpecs": false,
        "memoryGiB": 488,
        "name": "ml.p3.16xlarge",
        "vcpuNum": 64
      },
      {
        "_defaultOrder": 38,
        "_isFastLaunch": false,
        "category": "Accelerated computing",
        "gpuNum": 8,
        "hideHardwareSpecs": false,
        "memoryGiB": 768,
        "name": "ml.p3dn.24xlarge",
        "vcpuNum": 96
      },
      {
        "_defaultOrder": 39,
        "_isFastLaunch": false,
        "category": "Memory Optimized",
        "gpuNum": 0,
        "hideHardwareSpecs": false,
        "memoryGiB": 16,
        "name": "ml.r5.large",
        "vcpuNum": 2
      },
      {
        "_defaultOrder": 40,
        "_isFastLaunch": false,
        "category": "Memory Optimized",
        "gpuNum": 0,
        "hideHardwareSpecs": false,
        "memoryGiB": 32,
        "name": "ml.r5.xlarge",
        "vcpuNum": 4
      },
      {
        "_defaultOrder": 41,
        "_isFastLaunch": false,
        "category": "Memory Optimized",
        "gpuNum": 0,
        "hideHardwareSpecs": false,
        "memoryGiB": 64,
        "name": "ml.r5.2xlarge",
        "vcpuNum": 8
      },
      {
        "_defaultOrder": 42,
        "_isFastLaunch": false,
        "category": "Memory Optimized",
        "gpuNum": 0,
        "hideHardwareSpecs": false,
        "memoryGiB": 128,
        "name": "ml.r5.4xlarge",
        "vcpuNum": 16
      },
      {
        "_defaultOrder": 43,
        "_isFastLaunch": false,
        "category": "Memory Optimized",
        "gpuNum": 0,
        "hideHardwareSpecs": false,
        "memoryGiB": 256,
        "name": "ml.r5.8xlarge",
        "vcpuNum": 32
      },
      {
        "_defaultOrder": 44,
        "_isFastLaunch": false,
        "category": "Memory Optimized",
        "gpuNum": 0,
        "hideHardwareSpecs": false,
        "memoryGiB": 384,
        "name": "ml.r5.12xlarge",
        "vcpuNum": 48
      },
      {
        "_defaultOrder": 45,
        "_isFastLaunch": false,
        "category": "Memory Optimized",
        "gpuNum": 0,
        "hideHardwareSpecs": false,
        "memoryGiB": 512,
        "name": "ml.r5.16xlarge",
        "vcpuNum": 64
      },
      {
        "_defaultOrder": 46,
        "_isFastLaunch": false,
        "category": "Memory Optimized",
        "gpuNum": 0,
        "hideHardwareSpecs": false,
        "memoryGiB": 768,
        "name": "ml.r5.24xlarge",
        "vcpuNum": 96
      },
      {
        "_defaultOrder": 47,
        "_isFastLaunch": false,
        "category": "Accelerated computing",
        "gpuNum": 1,
        "hideHardwareSpecs": false,
        "memoryGiB": 16,
        "name": "ml.g5.xlarge",
        "vcpuNum": 4
      },
      {
        "_defaultOrder": 48,
        "_isFastLaunch": false,
        "category": "Accelerated computing",
        "gpuNum": 1,
        "hideHardwareSpecs": false,
        "memoryGiB": 32,
        "name": "ml.g5.2xlarge",
        "vcpuNum": 8
      },
      {
        "_defaultOrder": 49,
        "_isFastLaunch": false,
        "category": "Accelerated computing",
        "gpuNum": 1,
        "hideHardwareSpecs": false,
        "memoryGiB": 64,
        "name": "ml.g5.4xlarge",
        "vcpuNum": 16
      },
      {
        "_defaultOrder": 50,
        "_isFastLaunch": false,
        "category": "Accelerated computing",
        "gpuNum": 1,
        "hideHardwareSpecs": false,
        "memoryGiB": 128,
        "name": "ml.g5.8xlarge",
        "vcpuNum": 32
      },
      {
        "_defaultOrder": 51,
        "_isFastLaunch": false,
        "category": "Accelerated computing",
        "gpuNum": 1,
        "hideHardwareSpecs": false,
        "memoryGiB": 256,
        "name": "ml.g5.16xlarge",
        "vcpuNum": 64
      },
      {
        "_defaultOrder": 52,
        "_isFastLaunch": false,
        "category": "Accelerated computing",
        "gpuNum": 4,
        "hideHardwareSpecs": false,
        "memoryGiB": 192,
        "name": "ml.g5.12xlarge",
        "vcpuNum": 48
      },
      {
        "_defaultOrder": 53,
        "_isFastLaunch": false,
        "category": "Accelerated computing",
        "gpuNum": 4,
        "hideHardwareSpecs": false,
        "memoryGiB": 384,
        "name": "ml.g5.24xlarge",
        "vcpuNum": 96
      },
      {
        "_defaultOrder": 54,
        "_isFastLaunch": false,
        "category": "Accelerated computing",
        "gpuNum": 8,
        "hideHardwareSpecs": false,
        "memoryGiB": 768,
        "name": "ml.g5.48xlarge",
        "vcpuNum": 192
      },
      {
        "_defaultOrder": 55,
        "_isFastLaunch": false,
        "category": "Accelerated computing",
        "gpuNum": 8,
        "hideHardwareSpecs": false,
        "memoryGiB": 1152,
        "name": "ml.p4d.24xlarge",
        "vcpuNum": 96
      },
      {
        "_defaultOrder": 56,
        "_isFastLaunch": false,
        "category": "Accelerated computing",
        "gpuNum": 8,
        "hideHardwareSpecs": false,
        "memoryGiB": 1152,
        "name": "ml.p4de.24xlarge",
        "vcpuNum": 96
      }
    ],
    "instance_type": "ml.t3.medium",
    "kernelspec": {
      "display_name": "Python 3 (Data Science 3.0)",
      "language": "python",
      "name": "python3__SAGEMAKER_INTERNAL__arn:aws:sagemaker:us-east-1:081325390199:image/sagemaker-data-science-310-v1"
    },
    "language_info": {
      "codemirror_mode": {
        "name": "ipython",
        "version": 3
      },
      "file_extension": ".py",
      "mimetype": "text/x-python",
      "name": "python",
      "nbconvert_exporter": "python",
      "pygments_lexer": "ipython3",
      "version": "3.10.6"
    },
    "colab": {
      "provenance": []
    }
  },
  "nbformat": 4,
  "nbformat_minor": 5
}